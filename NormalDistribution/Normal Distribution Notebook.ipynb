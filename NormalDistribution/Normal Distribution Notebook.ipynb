{
 "cells": [
  {
   "cell_type": "markdown",
   "id": "4c7ce060",
   "metadata": {},
   "source": [
    "# Normal Distribution Notebook"
   ]
  },
  {
   "cell_type": "markdown",
   "id": "cb0123a4",
   "metadata": {},
   "source": [
    "The Normal Distribution is one of the most important distributions, is the default probability for many real-world scenarios.Also known as a Gaussian distribution or Bell Curve, it is one of the most crucial distributions in all of statistics, by far. The majority of naturally occurring phenomena follow a normal distribution, making the normal distribution magical. For instance, the normal distribution is observed for height, IQ scores, and blood pressure.\n",
    "\n",
    "It has three parameters:\n",
    "\n",
    "loc - (Mean) where the peak of the bell exists. The mean is the usual average. The sum of total points divided by the total number of points.\n",
    "\n",
    "scale - (Standard Deviation) how flat the graph distribution should be. It tells us how “spread out” the data is. It is a measure of how far each observed value is from the mean.\n",
    "\n",
    "size - The shape of the returned array.\n",
    "\n",
    "# Real-world examples of normal distribution\n",
    "\n",
    "The normal probability distribution has numerous real-world applications. In the actual world, normal distributions are applicable to a wide range of circumstances, including some of the following:\n",
    "\n",
    "* IQ scores (the mean is typically 100, SD = 15)\n",
    "* Marks of students in a class (mean = 60, SD = 20)\n",
    "* Measure of weight (mean = 80 kg, SD = 10)\n",
    "* Measure of wealth (measurement in money; mean =  50,000,𝑆𝐷= 100)\n",
    "* Height of trees (measurement in meters; mean = 40 m, SD = 20)\n",
    "\n"
   ]
  },
  {
   "cell_type": "markdown",
   "id": "fdab0f50",
   "metadata": {},
   "source": [
    "# Example of Normal Distribution in Python\n",
    "\n",
    "With an appropriate sample size, let's say we have information on the heights of adults in a town, and the data has a normal distribution. The mean height is 5.3 inches, and the standard deviation is one.\n",
    "\n",
    "The data, loc, and scale are required as input arguments for the norm.pdf() class method, which returns the probability density value. The scale and loc are simply the data's mean and standard deviation, respectively."
   ]
  },
  {
   "cell_type": "code",
   "execution_count": 1,
   "id": "c76c2fa5",
   "metadata": {},
   "outputs": [
    {
     "data": {
      "text/plain": [
       "Text(0, 0.5, 'Probability Density')"
      ]
     },
     "execution_count": 1,
     "metadata": {},
     "output_type": "execute_result"
    },
    {
     "data": {
      "image/png": "[encoded data removed]",
      "text/plain": [
       "<Figure size 432x288 with 1 Axes>"
      ]
     },
     "metadata": {},
     "output_type": "display_data"
    }
   ],
   "source": [
    "# import required libraries\n",
    "from scipy.stats import norm #function to calculate probabilities from the normal distribution.\n",
    "import numpy as np\n",
    "import matplotlib.pyplot as plt\n",
    "import seaborn as sb\n",
    "import warnings\n",
    "warnings.filterwarnings(\"ignore\")\n",
    " \n",
    "# Creating the distribution\n",
    "data = np.arange(1,10,0.01)\n",
    "pdf = norm.pdf(data , loc = 5.3 , scale = 1 )\n",
    " \n",
    "#Visualizing the distribution\n",
    " \n",
    "sb.set_style('whitegrid')\n",
    "sb.lineplot(data, pdf , color = 'black')\n",
    "plt.xlabel('Heights')\n",
    "plt.ylabel('Probability Density')"
   ]
  },
  {
   "cell_type": "markdown",
   "id": "617a4bb4",
   "metadata": {},
   "source": [
    "# Properties of a normal distribution\n",
    "\n",
    "* A smaller standard deviation will result in a closely bounded curve\n",
    "\n",
    "* A high standard deviation will result in a more spread out curve.\n",
    "\n",
    "* The mean, mode, and median are all equal.\n",
    "\n",
    "* Half of the population is less than the mean and half is greater than the mean.\n",
    "\n",
    "* The curve is symmetric around the mean.\n",
    "\n"
   ]
  },
  {
   "cell_type": "markdown",
   "id": "eecd2778",
   "metadata": {},
   "source": [
    "# Conclusion \n",
    "\n",
    "It is commonly used to model real-world phenomena, such as test scores or the average heights of the population.\n",
    "\n",
    "The normal distribution's fundamental characteristic is that a large proportion of the data (around 68%) will fall within one standard deviation of the mean, while nearly all of the data (about 95%) will fall within two standard deviations of the mean. This property of the normal distribution is known as the 68-95-99.7 rule, or the empirical rule.\n",
    "\n",
    "In conclusion, the normal distribution is a widely-used probability distribution that is symmetrical about the mean and has a number of useful properties for modeling real-world data. It is important to consider the sample size and other factors when using the normal distribution to model a dataset."
   ]
  },
  {
   "cell_type": "code",
   "execution_count": null,
   "id": "d09e8cdb",
   "metadata": {},
   "outputs": [],
   "source": [
    "https://www.youtube.com/watch?v=rzFX5NWojp0\n",
    "    \n",
    "https://vitalflux.com/normal-distribution-explained-python-examples\n",
    "    \n",
    "https://www.w3schools.com/python/numpy/numpy_random_normal.asp   \n",
    "    \n",
    "https://www.askpython.com/python/normal-distribution    "
   ]
  }
 ],
 "metadata": {
  "kernelspec": {
   "display_name": "Python 3 (ipykernel)",
   "language": "python",
   "name": "python3"
  },
  "language_info": {
   "codemirror_mode": {
    "name": "ipython",
    "version": 3
   },
   "file_extension": ".py",
   "mimetype": "text/x-python",
   "name": "python",
   "nbconvert_exporter": "python",
   "pygments_lexer": "ipython3",
   "version": "3.9.7"
  }
 },
 "nbformat": 4,
 "nbformat_minor": 5
}
