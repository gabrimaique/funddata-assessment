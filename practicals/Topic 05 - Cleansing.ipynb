{
 "cells": [
  {
   "cell_type": "markdown",
   "id": "fa5cdeda",
   "metadata": {},
   "source": [
    "# Exercise 1\n",
    "\n",
    "Write a Python function to remove all non-alphanumeric characters from a string.\n",
    "\n",
    "\n"
   ]
  },
  {
   "cell_type": "code",
   "execution_count": 2,
   "id": "fcdcb8dd",
   "metadata": {},
   "outputs": [
    {
     "data": {
      "text/plain": [
       "'jdiejfowkejwekfjewf78dejdiefnde'"
      ]
     },
     "execution_count": 2,
     "metadata": {},
     "output_type": "execute_result"
    }
   ],
   "source": [
    "import re\n",
    "\n",
    "#re.sub(pattern, repl, string, count=0, flags=0)\n",
    "\n",
    "example = 'jdiejfowkejwekfjewf78%$£dejdief)nde\"£'\n",
    "pattern = r'\\W+'\n",
    "result = re.sub(pattern, '', example, count=0, flags=0)\n",
    "result"
   ]
  },
  {
   "cell_type": "markdown",
   "id": "746480a7",
   "metadata": {},
   "source": [
    "# Exercise 2\n",
    "\n",
    "Adapt the above code to capitalise the first letter of the iris species, using regular expressions.\n"
   ]
  },
  {
   "cell_type": "markdown",
   "id": "ed572d7f",
   "metadata": {},
   "source": [
    "### References \n",
    "\n",
    "[1].https://bobbyhadz.com/blog/python-remove-non-alphanumeric-characters-from-string#:~:text=sub()%20method%20to%20remove,replacing%20them%20with%20empty%20strings."
   ]
  }
 ],
 "metadata": {
  "kernelspec": {
   "display_name": "Python 3 (ipykernel)",
   "language": "python",
   "name": "python3"
  },
  "language_info": {
   "codemirror_mode": {
    "name": "ipython",
    "version": 3
   },
   "file_extension": ".py",
   "mimetype": "text/x-python",
   "name": "python",
   "nbconvert_exporter": "python",
   "pygments_lexer": "ipython3",
   "version": "3.9.7"
  }
 },
 "nbformat": 4,
 "nbformat_minor": 5
}
