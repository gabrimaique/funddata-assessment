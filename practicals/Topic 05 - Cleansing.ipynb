{
 "cells": [
  {
   "cell_type": "markdown",
   "id": "fa5cdeda",
   "metadata": {},
   "source": [
    "# Exercise 1\n",
    "\n",
    "Write a Python function to remove all non-alphanumeric characters from a string.\n",
    "\n",
    "\n"
   ]
  },
  {
   "cell_type": "markdown",
   "id": "746480a7",
   "metadata": {},
   "source": [
    "# Exercise 2\n",
    "\n",
    "Adapt the above code to capitalise the first letter of the iris species, using regular expressions.\n"
   ]
  }
 ],
 "metadata": {
  "kernelspec": {
   "display_name": "Python 3 (ipykernel)",
   "language": "python",
   "name": "python3"
  },
  "language_info": {
   "codemirror_mode": {
    "name": "ipython",
    "version": 3
   },
   "file_extension": ".py",
   "mimetype": "text/x-python",
   "name": "python",
   "nbconvert_exporter": "python",
   "pygments_lexer": "ipython3",
   "version": "3.9.7"
  }
 },
 "nbformat": 4,
 "nbformat_minor": 5
}
