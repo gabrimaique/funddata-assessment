{
 "cells": [
  {
   "cell_type": "markdown",
   "id": "db14058a",
   "metadata": {},
   "source": [
    "## Exercise 1\n",
    "\n",
    "Create box plots on a single set of axes for all five experiments in the morley data set.\n",
    "\n",
    "## Exercise 2\n",
    "\n",
    "Create box plots for all of the numercial variables in Fisher's Iris Data Set.\n",
    "\n",
    "\n",
    "## Exercise 3\n",
    "\n",
    "Adapt the above code and plots so that the overall plot is inversely propertional and the individual groups are directly proportional.\n"
   ]
  }
 ],
 "metadata": {
  "kernelspec": {
   "display_name": "Python 3 (ipykernel)",
   "language": "python",
   "name": "python3"
  },
  "language_info": {
   "codemirror_mode": {
    "name": "ipython",
    "version": 3
   },
   "file_extension": ".py",
   "mimetype": "text/x-python",
   "name": "python",
   "nbconvert_exporter": "python",
   "pygments_lexer": "ipython3",
   "version": "3.9.7"
  }
 },
 "nbformat": 4,
 "nbformat_minor": 5
}
