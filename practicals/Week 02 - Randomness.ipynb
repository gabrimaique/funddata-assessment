{
 "cells": [
  {
   "cell_type": "markdown",
   "id": "fa3569e7",
   "metadata": {},
   "source": [
    "## Exercise 1\n",
    "It is somewhat interesting that (5 * 4 * 3 * 2 * 1) perfectly divides (10 * 9 * 8 * 7 * 6) - there's no remainder.If we only wanted exactly four heads as opposed to five, the equivalent calculation would be (10 * 9 * 8 * 7) / (4 * 3 * 2 * 1).\n",
    "\n",
    "Does that evenly divide too? \n",
    "Yes,the result is 210."
   ]
  },
  {
   "cell_type": "code",
   "execution_count": 20,
   "id": "7eaece6a",
   "metadata": {},
   "outputs": [
    {
     "data": {
      "text/plain": [
       "210.0"
      ]
     },
     "execution_count": 20,
     "metadata": {},
     "output_type": "execute_result"
    }
   ],
   "source": [
    "(10 * 9 * 8 * 7) / (4 * 3 * 2 * 1)"
   ]
  },
  {
   "attachments": {
    "Screenshot%20%28118%29.png": {
     "image/png": "[encoded data removed]"
    }
   },
   "cell_type": "markdown",
   "id": "bf359ff9",
   "metadata": {},
   "source": [
    "What is the formula in general?\n",
    "\n",
    "The formula we use to solve this question is the \"Combinations without Repetitions\" formula.Basically, it shows how many different possible subsets can be made from the larger set.\n",
    "\n",
    "Combinations Formula:\n",
    "![Screenshot%20%28118%29.png](attachment:Screenshot%20%28118%29.png)\n",
    "\n",
    "\n",
    "The formula show us the number of ways a sample of “r” elements can be obtained from a larger set of “n” distinguishable objects where order does not matter and repetitions are not allowed. [1] \"The number of ways of picking r unordered outcomes from n possibilities.\" [2]\n",
    "\n",
    "If we want to count the number of combinations of 4 heads without repetition, we can use the formula in this way:"
   ]
  },
  {
   "attachments": {
    "Screenshot%20%28122%29.png": {
     "image/png": "[encoded data removed]"
    }
   },
   "cell_type": "markdown",
   "id": "78e573e3",
   "metadata": {},
   "source": [
    "![Screenshot%20%28122%29.png](attachment:Screenshot%20%28122%29.png)\n",
    "\n",
    "There is also a way to calculate it in python using the math library:"
   ]
  },
  {
   "cell_type": "code",
   "execution_count": 24,
   "id": "bf562216",
   "metadata": {},
   "outputs": [
    {
     "data": {
      "text/plain": [
       "210"
      ]
     },
     "execution_count": 24,
     "metadata": {},
     "output_type": "execute_result"
    }
   ],
   "source": [
    "from math import comb\n",
    "\n",
    "comb(10,4)"
   ]
  },
  {
   "cell_type": "markdown",
   "id": "f43a0062",
   "metadata": {},
   "source": [
    "Does it always come out as a positive whole number?\n",
    "\n",
    "Yes. Probability is an indicator of how likely an event is to take place. The probability is zero if there is absolutely no chance that the event will occur. It is 1 or 100 if it will unquestionably happen. In experimental probability, it is presummated that none of the input values can or will be negative, hence a negative outcome is not possible."
   ]
  },
  {
   "cell_type": "markdown",
   "id": "bb3daa44",
   "metadata": {},
   "source": [
    "## Exercise 2\n",
    "Note that there are the same number of ways to get 4 tails as there to get 4 heads. Explain why this is.\n",
    "\n",
    "The probability is set at 50/50 and it is assumed that heads and tails are equally weighted.Flipping a coin has only 2 outcomes, each of which have a 50% chance of happening: Heads or Tails, thats why the number of ways in getting 4 tails is the same as getting 4 heads."
   ]
  },
  {
   "cell_type": "markdown",
   "id": "5742c37b",
   "metadata": {},
   "source": [
    "## Exercise 3\n",
    "Plot bar charts or histograms of any three different distributions listed at the following link:\n",
    "https://numpy.org/doc/stable/reference/random/generator.html#distributions"
   ]
  },
  {
   "cell_type": "markdown",
   "id": "d779ac50",
   "metadata": {},
   "source": [
    "References:\n",
    "[1] https://www.youtube.com/watch?v=ArVjD5WyzDg\n",
    "[2] https://stackoverflow.com/questions/4941753/is-there-a-math-ncr-function-in-python\n",
    "[3] https://www.calculatorsoup.com/calculators/discretemathematics/combinations.php\n",
    "[4] https://www.w3schools.com/python/ref_math_comb.asp#:~:text=The%20math.,method%20must%20be%20positive%20integers\n",
    "[5] https://math.answers.com/algebra/Why_can%27t_probability_be_negative"
   ]
  },
  {
   "cell_type": "code",
   "execution_count": null,
   "id": "989f4bbe",
   "metadata": {},
   "outputs": [],
   "source": []
  }
 ],
 "metadata": {
  "kernelspec": {
   "display_name": "Python 3 (ipykernel)",
   "language": "python",
   "name": "python3"
  },
  "language_info": {
   "codemirror_mode": {
    "name": "ipython",
    "version": 3
   },
   "file_extension": ".py",
   "mimetype": "text/x-python",
   "name": "python",
   "nbconvert_exporter": "python",
   "pygments_lexer": "ipython3",
   "version": "3.9.7"
  }
 },
 "nbformat": 4,
 "nbformat_minor": 5
}
