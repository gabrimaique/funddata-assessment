{
 "cells": [
  {
   "cell_type": "markdown",
   "id": "4a1bfb90",
   "metadata": {},
   "source": [
    "## Exercise 1\n",
    "\n",
    "### Give three real-world examples of different types of cognitive bias.\n",
    "\n",
    "### Gender bias: \n",
    "\n",
    "Gender bias is the propensity we have to attribute certain behaviours and attributes to a particular gender without providing any justification.\n",
    "Exemple: Complaints of pain are taken more seriously when made by male, rather than female, patients\n",
    "\n",
    "### Gambler’s fallacy: \n",
    "\n",
    "This misconception encapsulates our propensity to anticipate outcomes when something hasn't yet occurred.\n",
    "Exemple: when betting on a roulette table, if previous outcomes have landed on red, then we might mistakenly assume that the next outcome will be black; however, these events are independent of each other\n",
    "\n",
    "### The Confirmation Bias: \n",
    "the ir\n",
    " The confirmation bias is the tendency to listen more often to information that confirms our existing beliefs. Through this bias, people tend to favor information that reinforces the things they already think or believe\n",
    " Exemple: Only following people on social media who share your viewpoints\n",
    "\n",
    "\n",
    "### References\n",
    "\n",
    "[1]. https://positivepsychology.com/cognitive-biases/#:~:text=A%20cognitive%20bias%20that%20may,to%20hopping%20into%20my%20car.\n",
    "\n",
    "[2]. https://www.verywellmind.com/cognitive-biases-distort-thinking-2794763\n",
    "\n",
    "## Exercise 2\n",
    "\n",
    "Show that the difference between the standard deviation calculations is greatest for small sample sizes."
   ]
  }
 ],
 "metadata": {
  "kernelspec": {
   "display_name": "Python 3 (ipykernel)",
   "language": "python",
   "name": "python3"
  },
  "language_info": {
   "codemirror_mode": {
    "name": "ipython",
    "version": 3
   },
   "file_extension": ".py",
   "mimetype": "text/x-python",
   "name": "python",
   "nbconvert_exporter": "python",
   "pygments_lexer": "ipython3",
   "version": "3.9.7"
  }
 },
 "nbformat": 4,
 "nbformat_minor": 5
}
