{
 "cells": [
  {
   "cell_type": "markdown",
   "id": "4a1bfb90",
   "metadata": {},
   "source": [
    "## Exercise 1\n",
    "\n",
    "### Give three real-world examples of different types of cognitive bias.\n",
    "\n",
    "### Gender bias: \n",
    "\n",
    "Gender bias is the propensity we have to attribute certain behaviours and attributes to a particular gender without providing any justification.\n",
    "Exemple: Complaints of pain are taken more seriously when made by male, rather than female, patients\n",
    "\n",
    "### Gambler’s fallacy: \n",
    "\n",
    "This misconception encapsulates our propensity to anticipate outcomes when something hasn't yet occurred.\n",
    "Exemple: when betting on a roulette table, if previous outcomes have landed on red, then we might mistakenly assume that the next outcome will be black; however, these events are independent of each other\n",
    "\n",
    "### The Confirmation Bias: \n",
    "the ir\n",
    " The confirmation bias is the tendency to listen more often to information that confirms our existing beliefs. Through this bias, people tend to favor information that reinforces the things they already think or believe\n",
    " Exemple: Only following people on social media who share your viewpoints\n",
    "\n",
    "\n",
    "### References\n",
    "\n",
    "[1]. https://positivepsychology.com/cognitive-biases/#:~:text=A%20cognitive%20bias%20that%20may,to%20hopping%20into%20my%20car.\n",
    "\n",
    "[2]. https://www.verywellmind.com/cognitive-biases-distort-thinking-2794763\n",
    "\n",
    "## Exercise 2\n",
    "\n",
    "Show that the difference between the standard deviation calculations is greatest for small sample sizes.\n",
    "\n",
    "The main indicator of how evenly distributed values are in a data collection is the standard deviation, it shows  how far the values are spread above and below the mean. When data points are relatively near to the mean, a small standard deviation is observed. A significant standard deviation, on the other hand, occurs when results are less concentrated around the mean."
   ]
  },
  {
   "cell_type": "code",
   "execution_count": 3,
   "id": "0f44b425",
   "metadata": {},
   "outputs": [
    {
     "name": "stdout",
     "output_type": "stream",
     "text": [
      "Mean: 11.8\n",
      "Standard Deviation: 6.493073232299171\n"
     ]
    }
   ],
   "source": [
    "# sample size = 5\n",
    "\n",
    "import numpy as np\n",
    "dataset=[1, 9, 13, 16, 20]\n",
    "print('Mean:', np.mean(dataset))\n",
    "print('Standard Deviation:', np.std(dataset))"
   ]
  },
  {
   "cell_type": "code",
   "execution_count": 4,
   "id": "1cc8bed1",
   "metadata": {},
   "outputs": [
    {
     "name": "stdout",
     "output_type": "stream",
     "text": [
      "Mean: 11.6\n",
      "Standard Deviation: 5.96992462263972\n"
     ]
    }
   ],
   "source": [
    "# sample size = 10 (the greater the sample size, the lower the standard deviation )\n",
    "\n",
    "import numpy as np\n",
    "dataset=[1, 4, 7, 9, 11, 14, 15, 17, 18, 20]\n",
    "print('Mean:', np.mean(dataset))\n",
    "print('Standard Deviation:', np.std(dataset))"
   ]
  },
  {
   "cell_type": "code",
   "execution_count": null,
   "id": "fe4b547e",
   "metadata": {},
   "outputs": [],
   "source": [
    "### References\n",
    "\n",
    "[1].https://www.youtube.com/watch?v=0WHEgUL1RDA"
   ]
  }
 ],
 "metadata": {
  "kernelspec": {
   "display_name": "Python 3 (ipykernel)",
   "language": "python",
   "name": "python3"
  },
  "language_info": {
   "codemirror_mode": {
    "name": "ipython",
    "version": 3
   },
   "file_extension": ".py",
   "mimetype": "text/x-python",
   "name": "python",
   "nbconvert_exporter": "python",
   "pygments_lexer": "ipython3",
   "version": "3.9.7"
  }
 },
 "nbformat": 4,
 "nbformat_minor": 5
}
